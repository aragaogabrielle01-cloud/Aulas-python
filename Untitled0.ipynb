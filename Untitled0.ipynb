{
  "nbformat": 4,
  "nbformat_minor": 0,
  "metadata": {
    "colab": {
      "provenance": [],
      "authorship_tag": "ABX9TyPORRuFohHcql4/JhEk+IY4",
      "include_colab_link": true
    },
    "kernelspec": {
      "name": "python3",
      "display_name": "Python 3"
    },
    "language_info": {
      "name": "python"
    }
  },
  "cells": [
    {
      "cell_type": "markdown",
      "metadata": {
        "id": "view-in-github",
        "colab_type": "text"
      },
      "source": [
        "<a href=\"https://colab.research.google.com/github/aragaogabrielle01-cloud/Aulas-python/blob/main/Untitled0.ipynb\" target=\"_parent\"><img src=\"https://colab.research.google.com/assets/colab-badge.svg\" alt=\"Open In Colab\"/></a>"
      ]
    },
    {
      "cell_type": "code",
      "execution_count": null,
      "metadata": {
        "colab": {
          "base_uri": "https://localhost:8080/"
        },
        "id": "cKnZSstTZcG9",
        "outputId": "a4df16f9-cf22-454f-948a-2499964c398e"
      },
      "outputs": [
        {
          "output_type": "stream",
          "name": "stdout",
          "text": [
            "<class 'int'>\n",
            "<class 'float'>\n",
            "<class 'bool'>\n",
            "<class 'str'>\n"
          ]
        }
      ],
      "source": [
        "a = 10\n",
        "b = 3.14\n",
        "c = True\n",
        "d = \"python\"\n",
        "\n",
        "print(type(a))\n",
        "print(type(b))\n",
        "print(type(c))\n",
        "print(type(d))\n"
      ]
    },
    {
      "cell_type": "markdown",
      "source": [
        "variaveis"
      ],
      "metadata": {
        "id": "69Kxo5fNbaCK"
      }
    },
    {
      "cell_type": "code",
      "source": [
        "\n",
        "nome = \"gabrielle\"\n",
        "idade = 18\n",
        "altura = 1.72\n",
        "gosta_de_python = True\n",
        "\n",
        "print(type(nome))\n",
        "print(type(idade))\n",
        "print(type(altura))\n",
        "print(type(gosta_de_python))\n"
      ],
      "metadata": {
        "colab": {
          "base_uri": "https://localhost:8080/"
        },
        "id": "6B8tV3pZbheh",
        "outputId": "aa0def4c-a45e-4d4f-b75a-19f1d7ca7994"
      },
      "execution_count": null,
      "outputs": [
        {
          "output_type": "stream",
          "name": "stdout",
          "text": [
            "<class 'str'>\n",
            "<class 'int'>\n",
            "<class 'float'>\n",
            "<class 'bool'>\n"
          ]
        }
      ]
    },
    {
      "cell_type": "markdown",
      "source": [
        "constante"
      ],
      "metadata": {
        "id": "UmwJbm2Whnyb"
      }
    },
    {
      "cell_type": "code",
      "source": [
        "PI = 3.14159\n",
        "raio = float(input())\n",
        "area = PI * raio ** 2\n",
        "print(area)"
      ],
      "metadata": {
        "colab": {
          "base_uri": "https://localhost:8080/"
        },
        "id": "X4M4HzcLh9Ts",
        "outputId": "3acc3c9a-b994-47d0-ffbd-36b591cf5231"
      },
      "execution_count": null,
      "outputs": [
        {
          "output_type": "stream",
          "name": "stdout",
          "text": [
            "8\n",
            "201.06176\n"
          ]
        }
      ]
    },
    {
      "cell_type": "markdown",
      "source": [
        "*texto em itálico*"
      ],
      "metadata": {
        "id": "ZyFsLdJ9bXZ_"
      }
    },
    {
      "cell_type": "code",
      "source": [
        "idade = int(input(\"digite sua idade: \"))\n",
        "altura = float(input(\"digite sua altura: \"))\n",
        "print(altura + idade)\n",
        "print(altura - idade)\n",
        "print(altura * idade)\n",
        "print(altura / idade)\n"
      ],
      "metadata": {
        "colab": {
          "base_uri": "https://localhost:8080/"
        },
        "id": "hEP_daW2s93t",
        "outputId": "ddfbbcf5-f40c-4c3c-df4f-e241fb797722"
      },
      "execution_count": null,
      "outputs": [
        {
          "output_type": "stream",
          "name": "stdout",
          "text": [
            "digite sua idade: 18\n",
            "digite sua altura: 1.72\n",
            "19.72\n",
            "-16.28\n",
            "30.96\n",
            "0.09555555555555556\n"
          ]
        }
      ]
    }
  ]
}